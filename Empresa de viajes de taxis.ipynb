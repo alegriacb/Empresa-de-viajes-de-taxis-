{
 "cells": [
  {
   "cell_type": "markdown",
   "metadata": {},
   "source": [
    "# Proyecto Sprint 8"
   ]
  },
  {
   "cell_type": "markdown",
   "metadata": {},
   "source": [
    "## Introducción "
   ]
  },
  {
   "cell_type": "markdown",
   "metadata": {},
   "source": [
    "Este proyecto se trara de realizar un caso de análisis de la vida real para Zuber, una nueva empresa de viajes compartidos que se está lanzando en Chicago.\n",
    "\n",
    "Se cuenta con datos sobre todos los viajes realizados por distintas compañias de taxis en Chicago durante el mes de noviembre de 2017, así como también las condiciones climáticas de mes correspondiente, con el objetivo de identificar si el clima afecta a la decisión de un ciudadano respecto a viajar de un luagr a otro. \n",
    "Se idenficicará las principales compañías de taxi que más viajes realizan, así como también los principales barrios donde la gente termina su viaje. \n",
    "\n",
    "Adicionalmente, se va a realizar un análisis específico junto a una prueba de hipótesis para idenficiar si los minutos promedio de viajes desde el barrio Loop hasta el aeropuerto O'Hare se ven afectados los días sábados de lluvia y soleados del mes de noviembre. "
   ]
  },
  {
   "cell_type": "code",
   "execution_count": 1,
   "metadata": {},
   "outputs": [],
   "source": [
    "#importar liberias a utilizar \n",
    "import pandas as pd\n",
    "import numpy as np \n",
    "from matplotlib import pyplot as plt \n",
    "from scipy import stats as st\n",
    "from scipy.stats import levene"
   ]
  },
  {
   "cell_type": "markdown",
   "metadata": {},
   "source": [
    "## Paso 4: Análisis exploratorio de datos "
   ]
  },
  {
   "cell_type": "code",
   "execution_count": 2,
   "metadata": {},
   "outputs": [],
   "source": [
    "#importar archivos a usar en el paso 4\n",
    "company_trips = pd.read_csv ('/datasets/project_sql_result_01.csv')\n",
    "avg_dropoff = pd.read_csv ('/datasets/project_sql_result_04.csv')"
   ]
  },
  {
   "cell_type": "code",
   "execution_count": 3,
   "metadata": {},
   "outputs": [
    {
     "name": "stdout",
     "output_type": "stream",
     "text": [
      "<class 'pandas.core.frame.DataFrame'>\n",
      "RangeIndex: 64 entries, 0 to 63\n",
      "Data columns (total 2 columns):\n",
      " #   Column        Non-Null Count  Dtype \n",
      "---  ------        --------------  ----- \n",
      " 0   company_name  64 non-null     object\n",
      " 1   trips_amount  64 non-null     int64 \n",
      "dtypes: int64(1), object(1)\n",
      "memory usage: 1.1+ KB\n"
     ]
    }
   ],
   "source": [
    "#visualizacion de la tabla company_trips \n",
    "company_trips.info()"
   ]
  },
  {
   "cell_type": "markdown",
   "metadata": {},
   "source": [
    "- Las variables de la tabla no contienen valores nulos y sus tipos de datos son correctos "
   ]
  },
  {
   "cell_type": "code",
   "execution_count": 4,
   "metadata": {},
   "outputs": [
    {
     "data": {
      "text/html": [
       "<div>\n",
       "<style scoped>\n",
       "    .dataframe tbody tr th:only-of-type {\n",
       "        vertical-align: middle;\n",
       "    }\n",
       "\n",
       "    .dataframe tbody tr th {\n",
       "        vertical-align: top;\n",
       "    }\n",
       "\n",
       "    .dataframe thead th {\n",
       "        text-align: right;\n",
       "    }\n",
       "</style>\n",
       "<table border=\"1\" class=\"dataframe\">\n",
       "  <thead>\n",
       "    <tr style=\"text-align: right;\">\n",
       "      <th></th>\n",
       "      <th>company_name</th>\n",
       "      <th>trips_amount</th>\n",
       "    </tr>\n",
       "  </thead>\n",
       "  <tbody>\n",
       "    <tr>\n",
       "      <th>0</th>\n",
       "      <td>Flash Cab</td>\n",
       "      <td>19558</td>\n",
       "    </tr>\n",
       "    <tr>\n",
       "      <th>1</th>\n",
       "      <td>Taxi Affiliation Services</td>\n",
       "      <td>11422</td>\n",
       "    </tr>\n",
       "    <tr>\n",
       "      <th>2</th>\n",
       "      <td>Medallion Leasing</td>\n",
       "      <td>10367</td>\n",
       "    </tr>\n",
       "    <tr>\n",
       "      <th>3</th>\n",
       "      <td>Yellow Cab</td>\n",
       "      <td>9888</td>\n",
       "    </tr>\n",
       "    <tr>\n",
       "      <th>4</th>\n",
       "      <td>Taxi Affiliation Service Yellow</td>\n",
       "      <td>9299</td>\n",
       "    </tr>\n",
       "  </tbody>\n",
       "</table>\n",
       "</div>"
      ],
      "text/plain": [
       "                      company_name  trips_amount\n",
       "0                        Flash Cab         19558\n",
       "1        Taxi Affiliation Services         11422\n",
       "2                Medallion Leasing         10367\n",
       "3                       Yellow Cab          9888\n",
       "4  Taxi Affiliation Service Yellow          9299"
      ]
     },
     "execution_count": 4,
     "metadata": {},
     "output_type": "execute_result"
    }
   ],
   "source": [
    "company_trips.head()"
   ]
  },
  {
   "cell_type": "code",
   "execution_count": 5,
   "metadata": {},
   "outputs": [
    {
     "data": {
      "text/plain": [
       "0"
      ]
     },
     "execution_count": 5,
     "metadata": {},
     "output_type": "execute_result"
    }
   ],
   "source": [
    "#se verifica que no hayan compañias duplicadas \n",
    "company_trips['company_name'].duplicated().sum()"
   ]
  },
  {
   "cell_type": "markdown",
   "metadata": {},
   "source": [
    "- No se tienen compañias de taxis duplicados, todos son registros únicos. "
   ]
  },
  {
   "cell_type": "code",
   "execution_count": 6,
   "metadata": {},
   "outputs": [
    {
     "data": {
      "text/html": [
       "<div>\n",
       "<style scoped>\n",
       "    .dataframe tbody tr th:only-of-type {\n",
       "        vertical-align: middle;\n",
       "    }\n",
       "\n",
       "    .dataframe tbody tr th {\n",
       "        vertical-align: top;\n",
       "    }\n",
       "\n",
       "    .dataframe thead th {\n",
       "        text-align: right;\n",
       "    }\n",
       "</style>\n",
       "<table border=\"1\" class=\"dataframe\">\n",
       "  <thead>\n",
       "    <tr style=\"text-align: right;\">\n",
       "      <th></th>\n",
       "      <th>company_name</th>\n",
       "      <th>trips_amount</th>\n",
       "    </tr>\n",
       "  </thead>\n",
       "  <tbody>\n",
       "    <tr>\n",
       "      <th>0</th>\n",
       "      <td>Flash Cab</td>\n",
       "      <td>19558</td>\n",
       "    </tr>\n",
       "    <tr>\n",
       "      <th>1</th>\n",
       "      <td>Taxi Affiliation Services</td>\n",
       "      <td>11422</td>\n",
       "    </tr>\n",
       "    <tr>\n",
       "      <th>2</th>\n",
       "      <td>Medallion Leasing</td>\n",
       "      <td>10367</td>\n",
       "    </tr>\n",
       "    <tr>\n",
       "      <th>3</th>\n",
       "      <td>Yellow Cab</td>\n",
       "      <td>9888</td>\n",
       "    </tr>\n",
       "    <tr>\n",
       "      <th>4</th>\n",
       "      <td>Taxi Affiliation Service Yellow</td>\n",
       "      <td>9299</td>\n",
       "    </tr>\n",
       "    <tr>\n",
       "      <th>5</th>\n",
       "      <td>Chicago Carriage Cab Corp</td>\n",
       "      <td>9181</td>\n",
       "    </tr>\n",
       "    <tr>\n",
       "      <th>6</th>\n",
       "      <td>City Service</td>\n",
       "      <td>8448</td>\n",
       "    </tr>\n",
       "    <tr>\n",
       "      <th>7</th>\n",
       "      <td>Sun Taxi</td>\n",
       "      <td>7701</td>\n",
       "    </tr>\n",
       "    <tr>\n",
       "      <th>8</th>\n",
       "      <td>Star North Management LLC</td>\n",
       "      <td>7455</td>\n",
       "    </tr>\n",
       "    <tr>\n",
       "      <th>9</th>\n",
       "      <td>Blue Ribbon Taxi Association Inc.</td>\n",
       "      <td>5953</td>\n",
       "    </tr>\n",
       "  </tbody>\n",
       "</table>\n",
       "</div>"
      ],
      "text/plain": [
       "                        company_name  trips_amount\n",
       "0                          Flash Cab         19558\n",
       "1          Taxi Affiliation Services         11422\n",
       "2                  Medallion Leasing         10367\n",
       "3                         Yellow Cab          9888\n",
       "4    Taxi Affiliation Service Yellow          9299\n",
       "5          Chicago Carriage Cab Corp          9181\n",
       "6                       City Service          8448\n",
       "7                           Sun Taxi          7701\n",
       "8          Star North Management LLC          7455\n",
       "9  Blue Ribbon Taxi Association Inc.          5953"
      ]
     },
     "execution_count": 6,
     "metadata": {},
     "output_type": "execute_result"
    }
   ],
   "source": [
    "#se crea una tabla con las 10 principales compañias con mayor cantidad de viajes \n",
    "top10_company= company_trips.sort_values(by = 'trips_amount', ascending = False).head(10)\n",
    "top10_company"
   ]
  },
  {
   "cell_type": "code",
   "execution_count": 7,
   "metadata": {},
   "outputs": [
    {
     "data": {
      "image/png": "[encoded data removed]",
      "text/plain": [
       "<Figure size 500x400 with 1 Axes>"
      ]
     },
     "metadata": {},
     "output_type": "display_data"
    }
   ],
   "source": [
    "#se crea un gráfico de barras para visualizar las principales compañias de taxis con relación \n",
    "#al número de viajes que realizó cada una entre el 16 y 17 de noviembre \n",
    "top10_company.plot (x = 'company_name', kind = 'bar', \n",
    "                    title = 'Principales compañias de taxis para el 15 y 16 de noviembre de 2017', \n",
    "                   xlabel = 'Nombre compañia', \n",
    "                   ylabel = 'Catidad de viajes',\n",
    "                   figsize = (5,4),\n",
    "                   )\n",
    "plt.xticks(rotation=45, ha ='right')\n",
    "plt.show()"
   ]
  },
  {
   "cell_type": "markdown",
   "metadata": {},
   "source": [
    "- Al analizar las principales compañías de taxis que más viajes han registrado entre el 15 y 16 de noviembre de 2017 está Flash Cab con 19558 recorridos cumplidos y en la posición 10 tenemos a Blue Ribbon Taxi Association Inc. con 5953 viajes fianlizados, lo que vieje a ser apenas el 30% de viajes con relación a Flash Cab. Es importante analizar más a detalle las tarifas que obrece cada compañia, la comodidad, limpieza y seguridad de los carros utilizados en cada viaje para poder tener una idea más clara de la razón por la cual los ciudadanos tienen a Flash Cab como compañia preferida."
   ]
  },
  {
   "cell_type": "code",
   "execution_count": 8,
   "metadata": {},
   "outputs": [
    {
     "name": "stdout",
     "output_type": "stream",
     "text": [
      "<class 'pandas.core.frame.DataFrame'>\n",
      "RangeIndex: 94 entries, 0 to 93\n",
      "Data columns (total 2 columns):\n",
      " #   Column                 Non-Null Count  Dtype  \n",
      "---  ------                 --------------  -----  \n",
      " 0   dropoff_location_name  94 non-null     object \n",
      " 1   average_trips          94 non-null     float64\n",
      "dtypes: float64(1), object(1)\n",
      "memory usage: 1.6+ KB\n"
     ]
    }
   ],
   "source": [
    "#visualizacion de la tabla avg_dropoff\n",
    "avg_dropoff.info()"
   ]
  },
  {
   "cell_type": "markdown",
   "metadata": {},
   "source": [
    "- Las variables de la tabla avg_dropoff no contienen valores nulos y sus tipos de datos son correctos "
   ]
  },
  {
   "cell_type": "code",
   "execution_count": 9,
   "metadata": {},
   "outputs": [
    {
     "data": {
      "text/html": [
       "<div>\n",
       "<style scoped>\n",
       "    .dataframe tbody tr th:only-of-type {\n",
       "        vertical-align: middle;\n",
       "    }\n",
       "\n",
       "    .dataframe tbody tr th {\n",
       "        vertical-align: top;\n",
       "    }\n",
       "\n",
       "    .dataframe thead th {\n",
       "        text-align: right;\n",
       "    }\n",
       "</style>\n",
       "<table border=\"1\" class=\"dataframe\">\n",
       "  <thead>\n",
       "    <tr style=\"text-align: right;\">\n",
       "      <th></th>\n",
       "      <th>dropoff_location_name</th>\n",
       "      <th>average_trips</th>\n",
       "    </tr>\n",
       "  </thead>\n",
       "  <tbody>\n",
       "    <tr>\n",
       "      <th>0</th>\n",
       "      <td>Loop</td>\n",
       "      <td>10727.466667</td>\n",
       "    </tr>\n",
       "    <tr>\n",
       "      <th>1</th>\n",
       "      <td>River North</td>\n",
       "      <td>9523.666667</td>\n",
       "    </tr>\n",
       "    <tr>\n",
       "      <th>2</th>\n",
       "      <td>Streeterville</td>\n",
       "      <td>6664.666667</td>\n",
       "    </tr>\n",
       "    <tr>\n",
       "      <th>3</th>\n",
       "      <td>West Loop</td>\n",
       "      <td>5163.666667</td>\n",
       "    </tr>\n",
       "    <tr>\n",
       "      <th>4</th>\n",
       "      <td>O'Hare</td>\n",
       "      <td>2546.900000</td>\n",
       "    </tr>\n",
       "  </tbody>\n",
       "</table>\n",
       "</div>"
      ],
      "text/plain": [
       "  dropoff_location_name  average_trips\n",
       "0                  Loop   10727.466667\n",
       "1           River North    9523.666667\n",
       "2         Streeterville    6664.666667\n",
       "3             West Loop    5163.666667\n",
       "4                O'Hare    2546.900000"
      ]
     },
     "execution_count": 9,
     "metadata": {},
     "output_type": "execute_result"
    }
   ],
   "source": [
    "avg_dropoff.head()"
   ]
  },
  {
   "cell_type": "code",
   "execution_count": 10,
   "metadata": {},
   "outputs": [
    {
     "data": {
      "text/plain": [
       "0"
      ]
     },
     "execution_count": 10,
     "metadata": {},
     "output_type": "execute_result"
    }
   ],
   "source": [
    "#se verifica que no hayan ubicaciones de dropoff duplicadas \n",
    "avg_dropoff['dropoff_location_name'].duplicated().sum()"
   ]
  },
  {
   "cell_type": "markdown",
   "metadata": {},
   "source": [
    "- No se tienen ubicaciones de dropoff duplicados, todos son registros únicos. "
   ]
  },
  {
   "cell_type": "markdown",
   "metadata": {},
   "source": [
    "- Al verificar que todos los datos de las tablas con las que se van a trabajar son correctos se pasa al análisis de los mismos. "
   ]
  },
  {
   "cell_type": "code",
   "execution_count": 11,
   "metadata": {},
   "outputs": [
    {
     "data": {
      "text/html": [
       "<div>\n",
       "<style scoped>\n",
       "    .dataframe tbody tr th:only-of-type {\n",
       "        vertical-align: middle;\n",
       "    }\n",
       "\n",
       "    .dataframe tbody tr th {\n",
       "        vertical-align: top;\n",
       "    }\n",
       "\n",
       "    .dataframe thead th {\n",
       "        text-align: right;\n",
       "    }\n",
       "</style>\n",
       "<table border=\"1\" class=\"dataframe\">\n",
       "  <thead>\n",
       "    <tr style=\"text-align: right;\">\n",
       "      <th></th>\n",
       "      <th>dropoff_location_name</th>\n",
       "      <th>average_trips</th>\n",
       "    </tr>\n",
       "  </thead>\n",
       "  <tbody>\n",
       "    <tr>\n",
       "      <th>0</th>\n",
       "      <td>Loop</td>\n",
       "      <td>10727.466667</td>\n",
       "    </tr>\n",
       "    <tr>\n",
       "      <th>1</th>\n",
       "      <td>River North</td>\n",
       "      <td>9523.666667</td>\n",
       "    </tr>\n",
       "    <tr>\n",
       "      <th>2</th>\n",
       "      <td>Streeterville</td>\n",
       "      <td>6664.666667</td>\n",
       "    </tr>\n",
       "    <tr>\n",
       "      <th>3</th>\n",
       "      <td>West Loop</td>\n",
       "      <td>5163.666667</td>\n",
       "    </tr>\n",
       "    <tr>\n",
       "      <th>4</th>\n",
       "      <td>O'Hare</td>\n",
       "      <td>2546.900000</td>\n",
       "    </tr>\n",
       "    <tr>\n",
       "      <th>5</th>\n",
       "      <td>Lake View</td>\n",
       "      <td>2420.966667</td>\n",
       "    </tr>\n",
       "    <tr>\n",
       "      <th>6</th>\n",
       "      <td>Grant Park</td>\n",
       "      <td>2068.533333</td>\n",
       "    </tr>\n",
       "    <tr>\n",
       "      <th>7</th>\n",
       "      <td>Museum Campus</td>\n",
       "      <td>1510.000000</td>\n",
       "    </tr>\n",
       "    <tr>\n",
       "      <th>8</th>\n",
       "      <td>Gold Coast</td>\n",
       "      <td>1364.233333</td>\n",
       "    </tr>\n",
       "    <tr>\n",
       "      <th>9</th>\n",
       "      <td>Sheffield &amp; DePaul</td>\n",
       "      <td>1259.766667</td>\n",
       "    </tr>\n",
       "  </tbody>\n",
       "</table>\n",
       "</div>"
      ],
      "text/plain": [
       "  dropoff_location_name  average_trips\n",
       "0                  Loop   10727.466667\n",
       "1           River North    9523.666667\n",
       "2         Streeterville    6664.666667\n",
       "3             West Loop    5163.666667\n",
       "4                O'Hare    2546.900000\n",
       "5             Lake View    2420.966667\n",
       "6            Grant Park    2068.533333\n",
       "7         Museum Campus    1510.000000\n",
       "8            Gold Coast    1364.233333\n",
       "9    Sheffield & DePaul    1259.766667"
      ]
     },
     "execution_count": 11,
     "metadata": {},
     "output_type": "execute_result"
    }
   ],
   "source": [
    "#identificar los 10 principales barrios en términos de finalización del recorrido, se ordena el resultado de manera descendente \n",
    "top10_dropoff = avg_dropoff.sort_values(by = 'average_trips', ascending = False).head(10)\n",
    "top10_dropoff"
   ]
  },
  {
   "cell_type": "code",
   "execution_count": 12,
   "metadata": {},
   "outputs": [
    {
     "data": {
      "image/png": "[encoded data removed]",
      "text/plain": [
       "<Figure size 500x400 with 1 Axes>"
      ]
     },
     "metadata": {},
     "output_type": "display_data"
    }
   ],
   "source": [
    "#se crea un gráfico de barras para visualizar los 10 principales barrios de finalización de recorrido \n",
    "#respecto al promedio de viajes en cada uno. \n",
    "top10_dropoff.plot (x = 'dropoff_location_name', kind = 'bar', \n",
    "                    title = 'Principales barrios de finalización de recorridos para noviembre de 2017', \n",
    "                   xlabel = 'Barrio', \n",
    "                   ylabel = 'Promedio de viajes finalizados',\n",
    "                   figsize = (5,4),\n",
    "                   )\n",
    "plt.xticks(rotation=45, ha ='right')\n",
    "plt.show()"
   ]
  },
  {
   "cell_type": "markdown",
   "metadata": {},
   "source": [
    "- Se han identificado los 10 princicales barrios respecto a la finalización del recorrido. Se puede ver que el barrio donde más finalizan los recorridos es Loop con un promedio de 10727 viajes y el barrio en la posición 10 es Sheffield & DePaul con 1259 viajes promedio, muy por dejabo del primer barrio. Existe una gran diferencia de viajes terminados entre estos 2 barrios para el mes de Noviembre del 2017. Se podría analizar que entreneimientos hay en el barrio Loop para saber por qué la gente viaja tanto allá."
   ]
  },
  {
   "cell_type": "markdown",
   "metadata": {},
   "source": [
    "## Paso 5. Prueba de hipótesis "
   ]
  },
  {
   "cell_type": "code",
   "execution_count": 13,
   "metadata": {},
   "outputs": [],
   "source": [
    "#importar e l archivo a utilizar para la prueba de hipótesis, los registros solo son para todos los sabados de noviembre\n",
    "trips_loop_ohire = pd.read_csv ('/datasets/project_sql_result_07.csv')"
   ]
  },
  {
   "cell_type": "code",
   "execution_count": 14,
   "metadata": {},
   "outputs": [
    {
     "data": {
      "text/html": [
       "<div>\n",
       "<style scoped>\n",
       "    .dataframe tbody tr th:only-of-type {\n",
       "        vertical-align: middle;\n",
       "    }\n",
       "\n",
       "    .dataframe tbody tr th {\n",
       "        vertical-align: top;\n",
       "    }\n",
       "\n",
       "    .dataframe thead th {\n",
       "        text-align: right;\n",
       "    }\n",
       "</style>\n",
       "<table border=\"1\" class=\"dataframe\">\n",
       "  <thead>\n",
       "    <tr style=\"text-align: right;\">\n",
       "      <th></th>\n",
       "      <th>start_ts</th>\n",
       "      <th>weather_conditions</th>\n",
       "      <th>duration_seconds</th>\n",
       "    </tr>\n",
       "  </thead>\n",
       "  <tbody>\n",
       "    <tr>\n",
       "      <th>1058</th>\n",
       "      <td>2017-11-25 12:00:00</td>\n",
       "      <td>Good</td>\n",
       "      <td>1440.0</td>\n",
       "    </tr>\n",
       "    <tr>\n",
       "      <th>1059</th>\n",
       "      <td>2017-11-11 10:00:00</td>\n",
       "      <td>Good</td>\n",
       "      <td>1303.0</td>\n",
       "    </tr>\n",
       "    <tr>\n",
       "      <th>1060</th>\n",
       "      <td>2017-11-04 14:00:00</td>\n",
       "      <td>Good</td>\n",
       "      <td>2700.0</td>\n",
       "    </tr>\n",
       "    <tr>\n",
       "      <th>1061</th>\n",
       "      <td>2017-11-18 16:00:00</td>\n",
       "      <td>Bad</td>\n",
       "      <td>2186.0</td>\n",
       "    </tr>\n",
       "    <tr>\n",
       "      <th>1062</th>\n",
       "      <td>2017-11-11 06:00:00</td>\n",
       "      <td>Good</td>\n",
       "      <td>1500.0</td>\n",
       "    </tr>\n",
       "    <tr>\n",
       "      <th>1063</th>\n",
       "      <td>2017-11-25 11:00:00</td>\n",
       "      <td>Good</td>\n",
       "      <td>0.0</td>\n",
       "    </tr>\n",
       "    <tr>\n",
       "      <th>1064</th>\n",
       "      <td>2017-11-11 10:00:00</td>\n",
       "      <td>Good</td>\n",
       "      <td>1318.0</td>\n",
       "    </tr>\n",
       "    <tr>\n",
       "      <th>1065</th>\n",
       "      <td>2017-11-11 13:00:00</td>\n",
       "      <td>Good</td>\n",
       "      <td>2100.0</td>\n",
       "    </tr>\n",
       "    <tr>\n",
       "      <th>1066</th>\n",
       "      <td>2017-11-11 08:00:00</td>\n",
       "      <td>Good</td>\n",
       "      <td>1380.0</td>\n",
       "    </tr>\n",
       "    <tr>\n",
       "      <th>1067</th>\n",
       "      <td>2017-11-04 16:00:00</td>\n",
       "      <td>Bad</td>\n",
       "      <td>2834.0</td>\n",
       "    </tr>\n",
       "  </tbody>\n",
       "</table>\n",
       "</div>"
      ],
      "text/plain": [
       "                 start_ts weather_conditions  duration_seconds\n",
       "1058  2017-11-25 12:00:00               Good            1440.0\n",
       "1059  2017-11-11 10:00:00               Good            1303.0\n",
       "1060  2017-11-04 14:00:00               Good            2700.0\n",
       "1061  2017-11-18 16:00:00                Bad            2186.0\n",
       "1062  2017-11-11 06:00:00               Good            1500.0\n",
       "1063  2017-11-25 11:00:00               Good               0.0\n",
       "1064  2017-11-11 10:00:00               Good            1318.0\n",
       "1065  2017-11-11 13:00:00               Good            2100.0\n",
       "1066  2017-11-11 08:00:00               Good            1380.0\n",
       "1067  2017-11-04 16:00:00                Bad            2834.0"
      ]
     },
     "execution_count": 14,
     "metadata": {},
     "output_type": "execute_result"
    }
   ],
   "source": [
    "#ver los primeros 1o registros de la tabla \n",
    "trips_loop_ohire.tail(10)"
   ]
  },
  {
   "cell_type": "code",
   "execution_count": 15,
   "metadata": {},
   "outputs": [
    {
     "name": "stdout",
     "output_type": "stream",
     "text": [
      "<class 'pandas.core.frame.DataFrame'>\n",
      "RangeIndex: 1068 entries, 0 to 1067\n",
      "Data columns (total 3 columns):\n",
      " #   Column              Non-Null Count  Dtype  \n",
      "---  ------              --------------  -----  \n",
      " 0   start_ts            1068 non-null   object \n",
      " 1   weather_conditions  1068 non-null   object \n",
      " 2   duration_seconds    1068 non-null   float64\n",
      "dtypes: float64(1), object(2)\n",
      "memory usage: 25.2+ KB\n"
     ]
    }
   ],
   "source": [
    "#ver info general \n",
    "trips_loop_ohire.info()"
   ]
  },
  {
   "cell_type": "markdown",
   "metadata": {},
   "source": [
    "- No se cuentan con valores nulos para las columnas de mi tabla. Sin embargo, la columa starts_ts es de tipo object por lo que se cambia a formato daytime y la columna duration_seconds a formato int. "
   ]
  },
  {
   "cell_type": "code",
   "execution_count": 16,
   "metadata": {},
   "outputs": [
    {
     "data": {
      "text/plain": [
       "True"
      ]
     },
     "execution_count": 16,
     "metadata": {},
     "output_type": "execute_result"
    }
   ],
   "source": [
    "#se verifica que se pueda convertir la columna duration_seconds a entero para no arriesgarse a perder información\n",
    "np.array_equal (trips_loop_ohire['duration_seconds'], trips_loop_ohire['duration_seconds'].astype('int'))"
   ]
  },
  {
   "cell_type": "code",
   "execution_count": 17,
   "metadata": {},
   "outputs": [],
   "source": [
    "#se convierte la columna duration_seconds a entero\n",
    "trips_loop_ohire['duration_seconds'] = trips_loop_ohire['duration_seconds'].astype ('int')"
   ]
  },
  {
   "cell_type": "code",
   "execution_count": 18,
   "metadata": {},
   "outputs": [],
   "source": [
    "#se convierte la columna starts_ts a formato daytime \n",
    "trips_loop_ohire['start_ts'] = pd.to_datetime (trips_loop_ohire['start_ts'], format = '%Y-%m-%d %H:%M:%S')"
   ]
  },
  {
   "cell_type": "code",
   "execution_count": 19,
   "metadata": {},
   "outputs": [
    {
     "data": {
      "text/plain": [
       "start_ts              datetime64[ns]\n",
       "weather_conditions            object\n",
       "duration_seconds               int64\n",
       "dtype: object"
      ]
     },
     "execution_count": 19,
     "metadata": {},
     "output_type": "execute_result"
    }
   ],
   "source": [
    "#se verifica que se haya realizado los cambios de formatos \n",
    "trips_loop_ohire.dtypes"
   ]
  },
  {
   "cell_type": "code",
   "execution_count": 20,
   "metadata": {},
   "outputs": [
    {
     "data": {
      "text/html": [
       "<div>\n",
       "<style scoped>\n",
       "    .dataframe tbody tr th:only-of-type {\n",
       "        vertical-align: middle;\n",
       "    }\n",
       "\n",
       "    .dataframe tbody tr th {\n",
       "        vertical-align: top;\n",
       "    }\n",
       "\n",
       "    .dataframe thead th {\n",
       "        text-align: right;\n",
       "    }\n",
       "</style>\n",
       "<table border=\"1\" class=\"dataframe\">\n",
       "  <thead>\n",
       "    <tr style=\"text-align: right;\">\n",
       "      <th></th>\n",
       "      <th>start_ts</th>\n",
       "      <th>weather_conditions</th>\n",
       "      <th>duration_seconds</th>\n",
       "    </tr>\n",
       "  </thead>\n",
       "  <tbody>\n",
       "    <tr>\n",
       "      <th>0</th>\n",
       "      <td>2017-11-25 16:00:00</td>\n",
       "      <td>Good</td>\n",
       "      <td>2410</td>\n",
       "    </tr>\n",
       "    <tr>\n",
       "      <th>1</th>\n",
       "      <td>2017-11-25 14:00:00</td>\n",
       "      <td>Good</td>\n",
       "      <td>1920</td>\n",
       "    </tr>\n",
       "    <tr>\n",
       "      <th>2</th>\n",
       "      <td>2017-11-25 12:00:00</td>\n",
       "      <td>Good</td>\n",
       "      <td>1543</td>\n",
       "    </tr>\n",
       "    <tr>\n",
       "      <th>3</th>\n",
       "      <td>2017-11-04 10:00:00</td>\n",
       "      <td>Good</td>\n",
       "      <td>2512</td>\n",
       "    </tr>\n",
       "    <tr>\n",
       "      <th>4</th>\n",
       "      <td>2017-11-11 07:00:00</td>\n",
       "      <td>Good</td>\n",
       "      <td>1440</td>\n",
       "    </tr>\n",
       "  </tbody>\n",
       "</table>\n",
       "</div>"
      ],
      "text/plain": [
       "             start_ts weather_conditions  duration_seconds\n",
       "0 2017-11-25 16:00:00               Good              2410\n",
       "1 2017-11-25 14:00:00               Good              1920\n",
       "2 2017-11-25 12:00:00               Good              1543\n",
       "3 2017-11-04 10:00:00               Good              2512\n",
       "4 2017-11-11 07:00:00               Good              1440"
      ]
     },
     "execution_count": 20,
     "metadata": {},
     "output_type": "execute_result"
    }
   ],
   "source": [
    "#se vuele a revisar los primeros registros para ver que los datos sean correctos\n",
    "trips_loop_ohire.head()"
   ]
  },
  {
   "cell_type": "code",
   "execution_count": 21,
   "metadata": {},
   "outputs": [
    {
     "data": {
      "text/html": [
       "<div>\n",
       "<style scoped>\n",
       "    .dataframe tbody tr th:only-of-type {\n",
       "        vertical-align: middle;\n",
       "    }\n",
       "\n",
       "    .dataframe tbody tr th {\n",
       "        vertical-align: top;\n",
       "    }\n",
       "\n",
       "    .dataframe thead th {\n",
       "        text-align: right;\n",
       "    }\n",
       "</style>\n",
       "<table border=\"1\" class=\"dataframe\">\n",
       "  <thead>\n",
       "    <tr style=\"text-align: right;\">\n",
       "      <th></th>\n",
       "      <th>duration_seconds</th>\n",
       "    </tr>\n",
       "  </thead>\n",
       "  <tbody>\n",
       "    <tr>\n",
       "      <th>count</th>\n",
       "      <td>1068.000000</td>\n",
       "    </tr>\n",
       "    <tr>\n",
       "      <th>mean</th>\n",
       "      <td>2071.731273</td>\n",
       "    </tr>\n",
       "    <tr>\n",
       "      <th>std</th>\n",
       "      <td>769.461125</td>\n",
       "    </tr>\n",
       "    <tr>\n",
       "      <th>min</th>\n",
       "      <td>0.000000</td>\n",
       "    </tr>\n",
       "    <tr>\n",
       "      <th>25%</th>\n",
       "      <td>1438.250000</td>\n",
       "    </tr>\n",
       "    <tr>\n",
       "      <th>50%</th>\n",
       "      <td>1980.000000</td>\n",
       "    </tr>\n",
       "    <tr>\n",
       "      <th>75%</th>\n",
       "      <td>2580.000000</td>\n",
       "    </tr>\n",
       "    <tr>\n",
       "      <th>max</th>\n",
       "      <td>7440.000000</td>\n",
       "    </tr>\n",
       "  </tbody>\n",
       "</table>\n",
       "</div>"
      ],
      "text/plain": [
       "       duration_seconds\n",
       "count       1068.000000\n",
       "mean        2071.731273\n",
       "std          769.461125\n",
       "min            0.000000\n",
       "25%         1438.250000\n",
       "50%         1980.000000\n",
       "75%         2580.000000\n",
       "max         7440.000000"
      ]
     },
     "execution_count": 21,
     "metadata": {},
     "output_type": "execute_result"
    }
   ],
   "source": [
    "#observar las estadisticas generales para la variable duration_seconds \n",
    "trips_loop_ohire.describe()"
   ]
  },
  {
   "cell_type": "markdown",
   "metadata": {},
   "source": [
    "### Prueba de hipótesis"
   ]
  },
  {
   "cell_type": "markdown",
   "metadata": {},
   "source": [
    "Ho: La duración promedio de los viajes desde el Loop hasta el Aeropuerto Internacional O'Hare es igual los sábados lluviosos y los sábados de sol.\n",
    "\n",
    "Ha: La duración promedio de los viajes desde el Loop hasta el Aeropuerto Internacional O'Hare cambia los sábados lluviosos."
   ]
  },
  {
   "cell_type": "code",
   "execution_count": 22,
   "metadata": {},
   "outputs": [
    {
     "data": {
      "text/html": [
       "<div>\n",
       "<style scoped>\n",
       "    .dataframe tbody tr th:only-of-type {\n",
       "        vertical-align: middle;\n",
       "    }\n",
       "\n",
       "    .dataframe tbody tr th {\n",
       "        vertical-align: top;\n",
       "    }\n",
       "\n",
       "    .dataframe thead th {\n",
       "        text-align: right;\n",
       "    }\n",
       "</style>\n",
       "<table border=\"1\" class=\"dataframe\">\n",
       "  <thead>\n",
       "    <tr style=\"text-align: right;\">\n",
       "      <th></th>\n",
       "      <th>start_ts</th>\n",
       "      <th>weather_conditions</th>\n",
       "      <th>duration_seconds</th>\n",
       "    </tr>\n",
       "  </thead>\n",
       "  <tbody>\n",
       "    <tr>\n",
       "      <th>0</th>\n",
       "      <td>2017-11-25 16:00:00</td>\n",
       "      <td>Good</td>\n",
       "      <td>2410</td>\n",
       "    </tr>\n",
       "    <tr>\n",
       "      <th>1</th>\n",
       "      <td>2017-11-25 14:00:00</td>\n",
       "      <td>Good</td>\n",
       "      <td>1920</td>\n",
       "    </tr>\n",
       "    <tr>\n",
       "      <th>2</th>\n",
       "      <td>2017-11-25 12:00:00</td>\n",
       "      <td>Good</td>\n",
       "      <td>1543</td>\n",
       "    </tr>\n",
       "    <tr>\n",
       "      <th>3</th>\n",
       "      <td>2017-11-04 10:00:00</td>\n",
       "      <td>Good</td>\n",
       "      <td>2512</td>\n",
       "    </tr>\n",
       "    <tr>\n",
       "      <th>4</th>\n",
       "      <td>2017-11-11 07:00:00</td>\n",
       "      <td>Good</td>\n",
       "      <td>1440</td>\n",
       "    </tr>\n",
       "    <tr>\n",
       "      <th>...</th>\n",
       "      <td>...</td>\n",
       "      <td>...</td>\n",
       "      <td>...</td>\n",
       "    </tr>\n",
       "    <tr>\n",
       "      <th>883</th>\n",
       "      <td>2017-11-11 06:00:00</td>\n",
       "      <td>Good</td>\n",
       "      <td>1500</td>\n",
       "    </tr>\n",
       "    <tr>\n",
       "      <th>884</th>\n",
       "      <td>2017-11-25 11:00:00</td>\n",
       "      <td>Good</td>\n",
       "      <td>0</td>\n",
       "    </tr>\n",
       "    <tr>\n",
       "      <th>885</th>\n",
       "      <td>2017-11-11 10:00:00</td>\n",
       "      <td>Good</td>\n",
       "      <td>1318</td>\n",
       "    </tr>\n",
       "    <tr>\n",
       "      <th>886</th>\n",
       "      <td>2017-11-11 13:00:00</td>\n",
       "      <td>Good</td>\n",
       "      <td>2100</td>\n",
       "    </tr>\n",
       "    <tr>\n",
       "      <th>887</th>\n",
       "      <td>2017-11-11 08:00:00</td>\n",
       "      <td>Good</td>\n",
       "      <td>1380</td>\n",
       "    </tr>\n",
       "  </tbody>\n",
       "</table>\n",
       "<p>888 rows × 3 columns</p>\n",
       "</div>"
      ],
      "text/plain": [
       "               start_ts weather_conditions  duration_seconds\n",
       "0   2017-11-25 16:00:00               Good              2410\n",
       "1   2017-11-25 14:00:00               Good              1920\n",
       "2   2017-11-25 12:00:00               Good              1543\n",
       "3   2017-11-04 10:00:00               Good              2512\n",
       "4   2017-11-11 07:00:00               Good              1440\n",
       "..                  ...                ...               ...\n",
       "883 2017-11-11 06:00:00               Good              1500\n",
       "884 2017-11-25 11:00:00               Good                 0\n",
       "885 2017-11-11 10:00:00               Good              1318\n",
       "886 2017-11-11 13:00:00               Good              2100\n",
       "887 2017-11-11 08:00:00               Good              1380\n",
       "\n",
       "[888 rows x 3 columns]"
      ]
     },
     "execution_count": 22,
     "metadata": {},
     "output_type": "execute_result"
    }
   ],
   "source": [
    "#se crearán 2 tablas a partir de la original. 1- con información del clima Good que corresponde a dias soleados \n",
    "#y 2- información del clima Bad que corresponde a dias lluviosos.\n",
    "good = trips_loop_ohire[trips_loop_ohire['weather_conditions'] == 'Good'].reset_index(drop = True)\n",
    "good"
   ]
  },
  {
   "cell_type": "code",
   "execution_count": 23,
   "metadata": {},
   "outputs": [
    {
     "data": {
      "text/html": [
       "<div>\n",
       "<style scoped>\n",
       "    .dataframe tbody tr th:only-of-type {\n",
       "        vertical-align: middle;\n",
       "    }\n",
       "\n",
       "    .dataframe tbody tr th {\n",
       "        vertical-align: top;\n",
       "    }\n",
       "\n",
       "    .dataframe thead th {\n",
       "        text-align: right;\n",
       "    }\n",
       "</style>\n",
       "<table border=\"1\" class=\"dataframe\">\n",
       "  <thead>\n",
       "    <tr style=\"text-align: right;\">\n",
       "      <th></th>\n",
       "      <th>start_ts</th>\n",
       "      <th>weather_conditions</th>\n",
       "      <th>duration_seconds</th>\n",
       "    </tr>\n",
       "  </thead>\n",
       "  <tbody>\n",
       "    <tr>\n",
       "      <th>0</th>\n",
       "      <td>2017-11-04 16:00:00</td>\n",
       "      <td>Bad</td>\n",
       "      <td>2969</td>\n",
       "    </tr>\n",
       "    <tr>\n",
       "      <th>1</th>\n",
       "      <td>2017-11-18 12:00:00</td>\n",
       "      <td>Bad</td>\n",
       "      <td>1980</td>\n",
       "    </tr>\n",
       "    <tr>\n",
       "      <th>2</th>\n",
       "      <td>2017-11-04 17:00:00</td>\n",
       "      <td>Bad</td>\n",
       "      <td>2460</td>\n",
       "    </tr>\n",
       "    <tr>\n",
       "      <th>3</th>\n",
       "      <td>2017-11-04 16:00:00</td>\n",
       "      <td>Bad</td>\n",
       "      <td>2760</td>\n",
       "    </tr>\n",
       "    <tr>\n",
       "      <th>4</th>\n",
       "      <td>2017-11-18 12:00:00</td>\n",
       "      <td>Bad</td>\n",
       "      <td>2460</td>\n",
       "    </tr>\n",
       "    <tr>\n",
       "      <th>...</th>\n",
       "      <td>...</td>\n",
       "      <td>...</td>\n",
       "      <td>...</td>\n",
       "    </tr>\n",
       "    <tr>\n",
       "      <th>175</th>\n",
       "      <td>2017-11-18 12:00:00</td>\n",
       "      <td>Bad</td>\n",
       "      <td>2560</td>\n",
       "    </tr>\n",
       "    <tr>\n",
       "      <th>176</th>\n",
       "      <td>2017-11-18 10:00:00</td>\n",
       "      <td>Bad</td>\n",
       "      <td>1908</td>\n",
       "    </tr>\n",
       "    <tr>\n",
       "      <th>177</th>\n",
       "      <td>2017-11-18 12:00:00</td>\n",
       "      <td>Bad</td>\n",
       "      <td>2400</td>\n",
       "    </tr>\n",
       "    <tr>\n",
       "      <th>178</th>\n",
       "      <td>2017-11-18 16:00:00</td>\n",
       "      <td>Bad</td>\n",
       "      <td>2186</td>\n",
       "    </tr>\n",
       "    <tr>\n",
       "      <th>179</th>\n",
       "      <td>2017-11-04 16:00:00</td>\n",
       "      <td>Bad</td>\n",
       "      <td>2834</td>\n",
       "    </tr>\n",
       "  </tbody>\n",
       "</table>\n",
       "<p>180 rows × 3 columns</p>\n",
       "</div>"
      ],
      "text/plain": [
       "               start_ts weather_conditions  duration_seconds\n",
       "0   2017-11-04 16:00:00                Bad              2969\n",
       "1   2017-11-18 12:00:00                Bad              1980\n",
       "2   2017-11-04 17:00:00                Bad              2460\n",
       "3   2017-11-04 16:00:00                Bad              2760\n",
       "4   2017-11-18 12:00:00                Bad              2460\n",
       "..                  ...                ...               ...\n",
       "175 2017-11-18 12:00:00                Bad              2560\n",
       "176 2017-11-18 10:00:00                Bad              1908\n",
       "177 2017-11-18 12:00:00                Bad              2400\n",
       "178 2017-11-18 16:00:00                Bad              2186\n",
       "179 2017-11-04 16:00:00                Bad              2834\n",
       "\n",
       "[180 rows x 3 columns]"
      ]
     },
     "execution_count": 23,
     "metadata": {},
     "output_type": "execute_result"
    }
   ],
   "source": [
    "#se crea la tabla para el clima con descripcion Bad\n",
    "bad = trips_loop_ohire[trips_loop_ohire['weather_conditions'] == 'Bad'].reset_index(drop = True)\n",
    "bad"
   ]
  },
  {
   "cell_type": "code",
   "execution_count": 24,
   "metadata": {},
   "outputs": [
    {
     "data": {
      "text/plain": [
       "575732.9308497686"
      ]
     },
     "execution_count": 24,
     "metadata": {},
     "output_type": "execute_result"
    }
   ],
   "source": [
    "#se calcula la varianza de la tabla Good\n",
    "var_good = np.var (good['duration_seconds'])\n",
    "var_good"
   ]
  },
  {
   "cell_type": "code",
   "execution_count": 25,
   "metadata": {},
   "outputs": [
    {
     "data": {
      "text/plain": [
       "517403.56330246915"
      ]
     },
     "execution_count": 25,
     "metadata": {},
     "output_type": "execute_result"
    }
   ],
   "source": [
    "#Se calcula la varianza de la tabla Bad\n",
    "var_bad = np.var (bad['duration_seconds'])\n",
    "var_bad"
   ]
  },
  {
   "cell_type": "code",
   "execution_count": 26,
   "metadata": {},
   "outputs": [
    {
     "name": "stdout",
     "output_type": "stream",
     "text": [
      "Estadístico de Levene: 0.38853489683656073\n",
      "Valor p: 0.5332038671974493\n",
      "No rechazamos la hipótesis nula: las varianzas son iguales.\n"
     ]
    }
   ],
   "source": [
    "# Realizar la prueba de Levene para verificar estadísticamente que las varianzas son diferentes \n",
    "stat, p_value = levene(good['duration_seconds'], bad['duration_seconds'])\n",
    "\n",
    "# Imprimir los resultados\n",
    "print('Estadístico de Levene:', stat)\n",
    "print('Valor p:', p_value)\n",
    "\n",
    "# Definir el nivel de significancia\n",
    "alpha = 0.05\n",
    "\n",
    "# Comparar el valor p con el nivel de significancia\n",
    "if p_value < alpha:\n",
    "    print(\"Rechazamos la hipótesis nula: las varianzas son diferentes.\")\n",
    "else:\n",
    "    print(\"No rechazamos la hipótesis nula: las varianzas son iguales.\")"
   ]
  },
  {
   "cell_type": "markdown",
   "metadata": {},
   "source": [
    "- Al realizar la prueba de levene, se puede confirma que estadísticamente las varianzas son iguales y no nos podemos basar en el cálculo aritmético de las varianzas. De esta manera se puede realizar una prueba de hipótesis para 2 poblaciones con varianzas iguales. "
   ]
  },
  {
   "cell_type": "markdown",
   "metadata": {},
   "source": [
    "- Para probar la hipótesis se selecciona un nivel de significancia de 0.05, considerando que es un valor apropiado para determinar si los resultados son significativos. \n",
    "- Se dedice realizar una prueba de igualdad de medias de 2 poblaciones con varianza diferente ya que se quiere identificar si existe diferencia es el tiempo promedio de viajes cuando el clima es bueno y cuando el clima es malo, siendo estas mis 2 poblaciones. Además solo se desea saber si hay diferencias entre medias, mas nó saber si la una es mayor a la otra. \n",
    "- Si mi valor p es menor a alpha, se rechaza la hopótesis nula."
   ]
  },
  {
   "cell_type": "markdown",
   "metadata": {},
   "source": [
    "Ho: La duración promedio de los viajes desde el Loop hasta el Aeropuerto Internacional O'Hare es igual los sábados lluviosos y los sábados de sol.\n",
    "\n",
    "Ha: La duración promedio de los viajes desde el Loop hasta el Aeropuerto Internacional O'Hare cambia los sábados lluviosos."
   ]
  },
  {
   "cell_type": "code",
   "execution_count": 28,
   "metadata": {},
   "outputs": [
    {
     "name": "stdout",
     "output_type": "stream",
     "text": [
      "valor_p: 6.517970327099473e-12\n",
      "Se rechaza la hipótesis nula\n"
     ]
    }
   ],
   "source": [
    "#prueba de hipótesis \n",
    "alpha = 0.05 \n",
    "\n",
    "results = st.ttest_ind(good['duration_seconds'], bad['duration_seconds'], equal_var = True)\n",
    "print ('valor_p:', results.pvalue)\n",
    "\n",
    "if (results.pvalue < alpha):\n",
    "    print (\"Se rechaza la hipótesis nula\")\n",
    "else:\n",
    "    print (\"No se puede rechazar la hipótesis nula\")"
   ]
  },
  {
   "cell_type": "markdown",
   "metadata": {},
   "source": [
    "- Después de realizar la prueba de hipótesis y obtener el resultado, se puede concluir que se rechaza la hipóteis nula sobre que la duración promedio de los viajes los días sabados del mes de noviembre del 2017 en días lluviosos y días soleados es igual. Esto quiere decir que existe una diferencia significativa en la duración promedio de los viajes desde el Loop hasta el aeropuerto y que se ve afecta por el condiciones climáticas de cada día. Para complementar este resultado se podría analizar si los días que llueve va menos gente al aeropuerto, o si prefieren utilizar otro método de transporte. O también se podría analizar si las personas se ven influenciadas en las predicciones del clima para el día en el que compran sus pasajes. \n"
   ]
  }
 ],
 "metadata": {
  "ExecuteTimeLog": [
   {
    "duration": 521,
    "start_time": "2024-10-16T18:43:58.931Z"
   },
   {
    "duration": 2368,
    "start_time": "2024-10-16T18:44:08.300Z"
   },
   {
    "duration": 5,
    "start_time": "2024-10-16T18:45:53.236Z"
   },
   {
    "duration": 53,
    "start_time": "2024-10-16T18:45:57.524Z"
   },
   {
    "duration": 10,
    "start_time": "2024-10-16T18:46:12.141Z"
   },
   {
    "duration": 11,
    "start_time": "2024-10-16T18:48:44.497Z"
   },
   {
    "duration": 10,
    "start_time": "2024-10-16T18:49:17.079Z"
   },
   {
    "duration": 8,
    "start_time": "2024-10-16T18:50:16.134Z"
   },
   {
    "duration": 10,
    "start_time": "2024-10-16T18:50:29.692Z"
   },
   {
    "duration": 8,
    "start_time": "2024-10-16T18:50:40.561Z"
   },
   {
    "duration": 6,
    "start_time": "2024-10-16T18:50:47.328Z"
   },
   {
    "duration": 9,
    "start_time": "2024-10-16T18:51:56.329Z"
   },
   {
    "duration": 7,
    "start_time": "2024-10-16T18:52:56.859Z"
   },
   {
    "duration": 8,
    "start_time": "2024-10-16T18:53:36.108Z"
   },
   {
    "duration": 7,
    "start_time": "2024-10-16T18:53:43.771Z"
   },
   {
    "duration": 14,
    "start_time": "2024-10-16T18:55:46.989Z"
   },
   {
    "duration": 4,
    "start_time": "2024-10-16T18:55:59.731Z"
   },
   {
    "duration": 4,
    "start_time": "2024-10-16T18:57:29.149Z"
   },
   {
    "duration": 2,
    "start_time": "2024-10-16T19:01:07.031Z"
   },
   {
    "duration": 16,
    "start_time": "2024-10-16T19:04:03.802Z"
   },
   {
    "duration": 8,
    "start_time": "2024-10-16T19:04:12.313Z"
   },
   {
    "duration": 7,
    "start_time": "2024-10-16T19:14:36.495Z"
   },
   {
    "duration": 176,
    "start_time": "2024-10-16T19:17:25.987Z"
   },
   {
    "duration": 186,
    "start_time": "2024-10-16T19:17:36.047Z"
   },
   {
    "duration": 4,
    "start_time": "2024-10-16T19:20:23.815Z"
   },
   {
    "duration": 156,
    "start_time": "2024-10-16T19:20:29.122Z"
   },
   {
    "duration": 176,
    "start_time": "2024-10-16T19:20:38.024Z"
   },
   {
    "duration": 156,
    "start_time": "2024-10-16T19:20:46.962Z"
   },
   {
    "duration": 146,
    "start_time": "2024-10-16T19:21:15.456Z"
   },
   {
    "duration": 218,
    "start_time": "2024-10-16T19:24:26.353Z"
   },
   {
    "duration": 250,
    "start_time": "2024-10-16T19:24:39.623Z"
   },
   {
    "duration": 391,
    "start_time": "2024-10-16T19:24:56.467Z"
   },
   {
    "duration": 256,
    "start_time": "2024-10-16T19:25:17.362Z"
   },
   {
    "duration": 220,
    "start_time": "2024-10-16T19:25:40.748Z"
   },
   {
    "duration": 144,
    "start_time": "2024-10-16T19:25:48.389Z"
   },
   {
    "duration": 142,
    "start_time": "2024-10-16T19:27:38.482Z"
   },
   {
    "duration": 146,
    "start_time": "2024-10-16T19:27:56.940Z"
   },
   {
    "duration": 151,
    "start_time": "2024-10-16T19:28:06.612Z"
   },
   {
    "duration": 144,
    "start_time": "2024-10-16T19:30:20.144Z"
   },
   {
    "duration": 6,
    "start_time": "2024-10-16T19:31:47.564Z"
   },
   {
    "duration": 162,
    "start_time": "2024-10-16T19:34:39.371Z"
   },
   {
    "duration": 9,
    "start_time": "2024-10-16T19:49:50.495Z"
   },
   {
    "duration": 9,
    "start_time": "2024-10-16T19:50:11.488Z"
   },
   {
    "duration": 7,
    "start_time": "2024-10-16T19:50:40.403Z"
   },
   {
    "duration": 9,
    "start_time": "2024-10-16T19:51:21.549Z"
   },
   {
    "duration": 10,
    "start_time": "2024-10-16T19:53:03.842Z"
   },
   {
    "duration": 7,
    "start_time": "2024-10-16T19:54:27.913Z"
   },
   {
    "duration": 4,
    "start_time": "2024-10-16T19:57:13.396Z"
   },
   {
    "duration": 3,
    "start_time": "2024-10-16T19:58:27.828Z"
   },
   {
    "duration": 18,
    "start_time": "2024-10-16T20:03:12.042Z"
   },
   {
    "duration": 12,
    "start_time": "2024-10-16T20:04:06.278Z"
   },
   {
    "duration": 13,
    "start_time": "2024-10-16T20:04:21.184Z"
   },
   {
    "duration": 4,
    "start_time": "2024-10-16T20:06:34.767Z"
   },
   {
    "duration": 9,
    "start_time": "2024-10-16T20:07:21.494Z"
   },
   {
    "duration": 4,
    "start_time": "2024-10-16T20:07:33.142Z"
   },
   {
    "duration": 10,
    "start_time": "2024-10-16T20:07:38.945Z"
   },
   {
    "duration": 7,
    "start_time": "2024-10-16T20:08:07.714Z"
   },
   {
    "duration": 9,
    "start_time": "2024-10-16T20:08:09.991Z"
   },
   {
    "duration": 5,
    "start_time": "2024-10-16T20:09:26.575Z"
   },
   {
    "duration": 7,
    "start_time": "2024-10-16T20:09:50.506Z"
   },
   {
    "duration": 8,
    "start_time": "2024-10-16T20:11:48.354Z"
   },
   {
    "duration": 2,
    "start_time": "2024-10-16T20:18:29.009Z"
   },
   {
    "duration": 2505,
    "start_time": "2024-10-16T21:49:06.788Z"
   },
   {
    "duration": 22,
    "start_time": "2024-10-16T21:49:09.296Z"
   },
   {
    "duration": 9,
    "start_time": "2024-10-16T21:49:09.319Z"
   },
   {
    "duration": 8,
    "start_time": "2024-10-16T21:49:09.331Z"
   },
   {
    "duration": 4,
    "start_time": "2024-10-16T21:49:09.341Z"
   },
   {
    "duration": 6,
    "start_time": "2024-10-16T21:49:09.347Z"
   },
   {
    "duration": 210,
    "start_time": "2024-10-16T21:49:09.355Z"
   },
   {
    "duration": 9,
    "start_time": "2024-10-16T21:49:09.567Z"
   },
   {
    "duration": 7,
    "start_time": "2024-10-16T21:49:09.578Z"
   },
   {
    "duration": 3,
    "start_time": "2024-10-16T21:49:09.588Z"
   },
   {
    "duration": 6,
    "start_time": "2024-10-16T21:49:09.593Z"
   },
   {
    "duration": 155,
    "start_time": "2024-10-16T21:49:09.601Z"
   },
   {
    "duration": 14,
    "start_time": "2024-10-16T21:49:09.758Z"
   },
   {
    "duration": 10,
    "start_time": "2024-10-16T21:49:09.775Z"
   },
   {
    "duration": 22,
    "start_time": "2024-10-16T21:49:09.787Z"
   },
   {
    "duration": 4,
    "start_time": "2024-10-16T21:49:09.811Z"
   },
   {
    "duration": 3,
    "start_time": "2024-10-16T21:49:09.817Z"
   },
   {
    "duration": 4,
    "start_time": "2024-10-16T21:49:09.822Z"
   },
   {
    "duration": 5,
    "start_time": "2024-10-16T21:49:09.828Z"
   },
   {
    "duration": 6,
    "start_time": "2024-10-16T21:49:09.834Z"
   },
   {
    "duration": 2,
    "start_time": "2024-10-16T21:49:09.842Z"
   },
   {
    "duration": 6,
    "start_time": "2024-10-16T21:55:41.929Z"
   },
   {
    "duration": 10,
    "start_time": "2024-10-16T21:55:51.155Z"
   },
   {
    "duration": 13,
    "start_time": "2024-10-16T21:56:35.092Z"
   },
   {
    "duration": 3,
    "start_time": "2024-10-16T21:58:34.298Z"
   },
   {
    "duration": 3,
    "start_time": "2024-10-16T21:59:06.146Z"
   },
   {
    "duration": 3,
    "start_time": "2024-10-16T21:59:14.251Z"
   },
   {
    "duration": 4,
    "start_time": "2024-10-16T21:59:19.553Z"
   },
   {
    "duration": 17,
    "start_time": "2024-10-16T22:01:49.747Z"
   },
   {
    "duration": 136,
    "start_time": "2024-10-16T22:02:03.701Z"
   },
   {
    "duration": 17,
    "start_time": "2024-10-16T22:02:07.331Z"
   },
   {
    "duration": 4,
    "start_time": "2024-10-16T22:02:22.282Z"
   },
   {
    "duration": 12,
    "start_time": "2024-10-16T22:02:34.922Z"
   },
   {
    "duration": 110,
    "start_time": "2024-10-16T22:04:20.847Z"
   },
   {
    "duration": 10,
    "start_time": "2024-10-16T22:04:27.005Z"
   },
   {
    "duration": 10,
    "start_time": "2024-10-16T22:04:36.603Z"
   },
   {
    "duration": 5,
    "start_time": "2024-10-16T22:04:47.977Z"
   },
   {
    "duration": 11,
    "start_time": "2024-10-16T22:04:55.391Z"
   },
   {
    "duration": 10,
    "start_time": "2024-10-16T22:07:52.079Z"
   },
   {
    "duration": 10,
    "start_time": "2024-10-16T22:08:30.614Z"
   },
   {
    "duration": 4,
    "start_time": "2024-10-16T22:10:13.319Z"
   },
   {
    "duration": 5,
    "start_time": "2024-10-16T22:10:25.858Z"
   },
   {
    "duration": 10,
    "start_time": "2024-10-16T22:11:43.953Z"
   },
   {
    "duration": 12,
    "start_time": "2024-10-16T22:12:11.160Z"
   },
   {
    "duration": 314,
    "start_time": "2024-10-16T22:29:11.065Z"
   },
   {
    "duration": 5,
    "start_time": "2024-10-16T22:31:05.341Z"
   },
   {
    "duration": 5,
    "start_time": "2024-10-16T22:31:33.274Z"
   },
   {
    "duration": 33,
    "start_time": "2024-10-16T22:31:49.791Z"
   },
   {
    "duration": 162,
    "start_time": "2024-10-17T14:30:24.340Z"
   },
   {
    "duration": 15,
    "start_time": "2024-10-17T14:31:54.850Z"
   },
   {
    "duration": 2521,
    "start_time": "2024-10-17T14:32:06.953Z"
   },
   {
    "duration": 17,
    "start_time": "2024-10-17T14:32:09.477Z"
   },
   {
    "duration": 10,
    "start_time": "2024-10-17T14:32:09.497Z"
   },
   {
    "duration": 8,
    "start_time": "2024-10-17T14:32:09.510Z"
   },
   {
    "duration": 5,
    "start_time": "2024-10-17T14:32:09.520Z"
   },
   {
    "duration": 7,
    "start_time": "2024-10-17T14:32:09.526Z"
   },
   {
    "duration": 235,
    "start_time": "2024-10-17T14:32:09.536Z"
   },
   {
    "duration": 9,
    "start_time": "2024-10-17T14:32:09.774Z"
   },
   {
    "duration": 6,
    "start_time": "2024-10-17T14:32:09.785Z"
   },
   {
    "duration": 4,
    "start_time": "2024-10-17T14:32:09.794Z"
   },
   {
    "duration": 7,
    "start_time": "2024-10-17T14:32:09.800Z"
   },
   {
    "duration": 172,
    "start_time": "2024-10-17T14:32:09.809Z"
   },
   {
    "duration": 8,
    "start_time": "2024-10-17T14:32:09.986Z"
   },
   {
    "duration": 7,
    "start_time": "2024-10-17T14:32:09.996Z"
   },
   {
    "duration": 8,
    "start_time": "2024-10-17T14:32:10.005Z"
   },
   {
    "duration": 4,
    "start_time": "2024-10-17T14:32:10.015Z"
   },
   {
    "duration": 3,
    "start_time": "2024-10-17T14:32:10.021Z"
   },
   {
    "duration": 4,
    "start_time": "2024-10-17T14:32:10.025Z"
   },
   {
    "duration": 4,
    "start_time": "2024-10-17T14:32:10.031Z"
   },
   {
    "duration": 6,
    "start_time": "2024-10-17T14:32:10.037Z"
   },
   {
    "duration": 11,
    "start_time": "2024-10-17T14:32:10.087Z"
   },
   {
    "duration": 10,
    "start_time": "2024-10-17T14:32:10.100Z"
   },
   {
    "duration": 10,
    "start_time": "2024-10-17T14:32:10.111Z"
   },
   {
    "duration": 5,
    "start_time": "2024-10-17T14:32:10.123Z"
   },
   {
    "duration": 4,
    "start_time": "2024-10-17T14:32:10.130Z"
   },
   {
    "duration": 251,
    "start_time": "2024-10-17T14:32:10.136Z"
   },
   {
    "duration": 0,
    "start_time": "2024-10-17T14:32:10.389Z"
   },
   {
    "duration": 809,
    "start_time": "2024-10-17T14:34:22.314Z"
   },
   {
    "duration": 10,
    "start_time": "2024-10-17T14:34:23.126Z"
   },
   {
    "duration": 12,
    "start_time": "2024-10-17T14:34:23.139Z"
   },
   {
    "duration": 11,
    "start_time": "2024-10-17T14:34:23.155Z"
   },
   {
    "duration": 6,
    "start_time": "2024-10-17T14:34:23.168Z"
   },
   {
    "duration": 8,
    "start_time": "2024-10-17T14:34:23.187Z"
   },
   {
    "duration": 198,
    "start_time": "2024-10-17T14:34:23.197Z"
   },
   {
    "duration": 9,
    "start_time": "2024-10-17T14:34:23.397Z"
   },
   {
    "duration": 6,
    "start_time": "2024-10-17T14:34:23.408Z"
   },
   {
    "duration": 4,
    "start_time": "2024-10-17T14:34:23.418Z"
   },
   {
    "duration": 7,
    "start_time": "2024-10-17T14:34:23.423Z"
   },
   {
    "duration": 178,
    "start_time": "2024-10-17T14:34:23.431Z"
   },
   {
    "duration": 6,
    "start_time": "2024-10-17T14:34:23.611Z"
   },
   {
    "duration": 7,
    "start_time": "2024-10-17T14:34:23.618Z"
   },
   {
    "duration": 8,
    "start_time": "2024-10-17T14:34:23.626Z"
   },
   {
    "duration": 4,
    "start_time": "2024-10-17T14:34:23.636Z"
   },
   {
    "duration": 2,
    "start_time": "2024-10-17T14:34:23.642Z"
   },
   {
    "duration": 4,
    "start_time": "2024-10-17T14:34:23.646Z"
   },
   {
    "duration": 40,
    "start_time": "2024-10-17T14:34:23.652Z"
   },
   {
    "duration": 7,
    "start_time": "2024-10-17T14:34:23.693Z"
   },
   {
    "duration": 9,
    "start_time": "2024-10-17T14:34:23.702Z"
   },
   {
    "duration": 9,
    "start_time": "2024-10-17T14:34:23.713Z"
   },
   {
    "duration": 10,
    "start_time": "2024-10-17T14:34:23.723Z"
   },
   {
    "duration": 4,
    "start_time": "2024-10-17T14:34:23.735Z"
   },
   {
    "duration": 5,
    "start_time": "2024-10-17T14:34:23.740Z"
   },
   {
    "duration": 46,
    "start_time": "2024-10-17T14:34:23.746Z"
   },
   {
    "duration": 4,
    "start_time": "2024-10-17T14:34:23.793Z"
   },
   {
    "duration": 4,
    "start_time": "2024-10-17T14:54:28.060Z"
   }
  ],
  "kernelspec": {
   "display_name": "Python 3 (ipykernel)",
   "language": "python",
   "name": "python3"
  },
  "language_info": {
   "codemirror_mode": {
    "name": "ipython",
    "version": 3
   },
   "file_extension": ".py",
   "mimetype": "text/x-python",
   "name": "python",
   "nbconvert_exporter": "python",
   "pygments_lexer": "ipython3",
   "version": "3.9.19"
  },
  "toc": {
   "base_numbering": 1,
   "nav_menu": {},
   "number_sections": true,
   "sideBar": true,
   "skip_h1_title": true,
   "title_cell": "Table of Contents",
   "title_sidebar": "Contents",
   "toc_cell": false,
   "toc_position": {},
   "toc_section_display": true,
   "toc_window_display": false
  }
 },
 "nbformat": 4,
 "nbformat_minor": 2
}
